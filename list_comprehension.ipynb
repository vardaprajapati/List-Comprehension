{
  "nbformat": 4,
  "nbformat_minor": 0,
  "metadata": {
    "colab": {
      "provenance": []
    },
    "kernelspec": {
      "name": "python3",
      "display_name": "Python 3"
    },
    "language_info": {
      "name": "python"
    }
  },
  "cells": [
    {
      "cell_type": "code",
      "execution_count": 1,
      "metadata": {
        "id": "v5-2xWsVfWoe"
      },
      "outputs": [],
      "source": [
        "#LIST COMPREHENSION "
      ]
    },
    {
      "cell_type": "code",
      "source": [
        "#PRINT THE SQ. OF THE NO.\n",
        "\n",
        "series=[]\n",
        "for i in range(1,11):\n",
        "    series.append(i*i)\n",
        "series    \n",
        "        "
      ],
      "metadata": {
        "colab": {
          "base_uri": "https://localhost:8080/"
        },
        "id": "gAJj_u3ggwUP",
        "outputId": "5f237751-d7cf-4a38-e772-1e00169dfca6"
      },
      "execution_count": 2,
      "outputs": [
        {
          "output_type": "execute_result",
          "data": {
            "text/plain": [
              "[1, 4, 9, 16, 25, 36, 49, 64, 81, 100]"
            ]
          },
          "metadata": {},
          "execution_count": 2
        }
      ]
    },
    {
      "cell_type": "code",
      "source": [
        "#list comprehension method\n",
        "\n",
        "series=[i*i for i in range (1,11)]\n",
        "series"
      ],
      "metadata": {
        "colab": {
          "base_uri": "https://localhost:8080/"
        },
        "id": "PCpG-du1habf",
        "outputId": "fce355bf-6281-4b52-cbfc-cf9cd84d0638"
      },
      "execution_count": 3,
      "outputs": [
        {
          "output_type": "execute_result",
          "data": {
            "text/plain": [
              "[1, 4, 9, 16, 25, 36, 49, 64, 81, 100]"
            ]
          },
          "metadata": {},
          "execution_count": 3
        }
      ]
    },
    {
      "cell_type": "code",
      "source": [
        "##list of numbers to double them .\n",
        "\n",
        "series=[2*i for i in range (1,11)]\n",
        "series"
      ],
      "metadata": {
        "colab": {
          "base_uri": "https://localhost:8080/"
        },
        "id": "SsmpfoyNhugm",
        "outputId": "e5b645e2-e46f-479b-94ad-3c813186ebfc"
      },
      "execution_count": 4,
      "outputs": [
        {
          "output_type": "execute_result",
          "data": {
            "text/plain": [
              "[2, 4, 6, 8, 10, 12, 14, 16, 18, 20]"
            ]
          },
          "metadata": {},
          "execution_count": 4
        }
      ]
    },
    {
      "cell_type": "code",
      "source": [
        "L=[2,5,4,9,10]\n",
        "for i in L:\n",
        "  print(2*i)"
      ],
      "metadata": {
        "colab": {
          "base_uri": "https://localhost:8080/"
        },
        "id": "8B4TydJZh377",
        "outputId": "b4b46432-266a-4710-98c3-7c0bed46f1bb"
      },
      "execution_count": 19,
      "outputs": [
        {
          "output_type": "stream",
          "name": "stdout",
          "text": [
            "4\n",
            "10\n",
            "8\n",
            "18\n",
            "20\n"
          ]
        }
      ]
    },
    {
      "cell_type": "code",
      "source": [
        "text=\"Hyy I am 18.1 years old.My house number is 6 in \""
      ],
      "metadata": {
        "id": "DlJnydrOiy2T"
      },
      "execution_count": 15,
      "outputs": []
    },
    {
      "cell_type": "code",
      "source": [
        "num=[float(i) for i in text.split() if i.isdigit()==True]\n",
        "num"
      ],
      "metadata": {
        "colab": {
          "base_uri": "https://localhost:8080/"
        },
        "id": "BQnLrNAYjOip",
        "outputId": "40ba242e-6932-4f70-89e8-d662d2cecc43"
      },
      "execution_count": 16,
      "outputs": [
        {
          "output_type": "execute_result",
          "data": {
            "text/plain": [
              "[6.0]"
            ]
          },
          "metadata": {},
          "execution_count": 16
        }
      ]
    },
    {
      "cell_type": "code",
      "source": [
        "product=[\"sim\",\"tim\",\"lata\",\"var\"]\n",
        "disc[]\n"
      ],
      "metadata": {
        "id": "dYD5hVFtkJg0"
      },
      "execution_count": 21,
      "outputs": []
    },
    {
      "cell_type": "code",
      "source": [
        "##FUNCTIONS"
      ],
      "metadata": {
        "id": "M5hcSUQcmDf5"
      },
      "execution_count": 22,
      "outputs": []
    },
    {
      "cell_type": "code",
      "source": [
        "###USER DEFINED FUNTIONS \n",
        "\n",
        "def area_of_triangle(base,height):\n",
        "  return(0.5*base*height)\n",
        "area_of_triangle(2,6)  "
      ],
      "metadata": {
        "colab": {
          "base_uri": "https://localhost:8080/"
        },
        "id": "dJ0wEeqomb9W",
        "outputId": "3158a1ee-ee63-42b2-c9a5-e9880e9f5362"
      },
      "execution_count": 26,
      "outputs": [
        {
          "output_type": "execute_result",
          "data": {
            "text/plain": [
              "6.0"
            ]
          },
          "metadata": {},
          "execution_count": 26
        }
      ]
    },
    {
      "cell_type": "code",
      "source": [
        "def area_of_rectangle(L,B):\n",
        "  return(L*B)\n",
        "area_of_rectangle(2,9)"
      ],
      "metadata": {
        "colab": {
          "base_uri": "https://localhost:8080/"
        },
        "id": "hYoToOIZmuMV",
        "outputId": "07ab56ad-6cd1-452e-f8c9-1cd085cc287e"
      },
      "execution_count": 27,
      "outputs": [
        {
          "output_type": "execute_result",
          "data": {
            "text/plain": [
              "18"
            ]
          },
          "metadata": {},
          "execution_count": 27
        }
      ]
    },
    {
      "cell_type": "code",
      "source": [
        "#add of two num.\n",
        "def addition(a,b):\n",
        "  return(a+b)\n",
        "addition(1,1)\n"
      ],
      "metadata": {
        "colab": {
          "base_uri": "https://localhost:8080/"
        },
        "id": "damF1AkQnJ_y",
        "outputId": "2ddf1471-1f7e-432b-9e5c-1df859758750"
      },
      "execution_count": 29,
      "outputs": [
        {
          "output_type": "execute_result",
          "data": {
            "text/plain": [
              "2"
            ]
          },
          "metadata": {},
          "execution_count": 29
        }
      ]
    },
    {
      "cell_type": "code",
      "source": [
        "##LAMBDA FUNCTIONS\n",
        "\n",
        "def greater(a,b):\n",
        "  if a>b:\n",
        "    return a\n",
        "  else:\n",
        "    return b  \n",
        "\n",
        "great=greater(5,10)\n",
        "great\n",
        "\n"
      ],
      "metadata": {
        "colab": {
          "base_uri": "https://localhost:8080/"
        },
        "id": "XpqyU-_zoEqf",
        "outputId": "f15334e7-3dff-4975-ac48-95c9cc645e55"
      },
      "execution_count": 32,
      "outputs": [
        {
          "output_type": "execute_result",
          "data": {
            "text/plain": [
              "10"
            ]
          },
          "metadata": {},
          "execution_count": 32
        }
      ]
    },
    {
      "cell_type": "code",
      "source": [
        "greater=lambda a,b: a if a>b  else b\n",
        "greater(100,9)"
      ],
      "metadata": {
        "colab": {
          "base_uri": "https://localhost:8080/"
        },
        "id": "VFSwAGj9qM7W",
        "outputId": "a4846f96-f34a-4f6a-a975-2e77f7b830f0"
      },
      "execution_count": 35,
      "outputs": [
        {
          "output_type": "execute_result",
          "data": {
            "text/plain": [
              "100"
            ]
          },
          "metadata": {},
          "execution_count": 35
        }
      ]
    },
    {
      "cell_type": "code",
      "source": [
        "num_list=list(range(1,11))\n",
        "sq_list=list(map(lambda x:x**2,num_list))\n",
        "sq_list"
      ],
      "metadata": {
        "colab": {
          "base_uri": "https://localhost:8080/"
        },
        "id": "uqPMZDGEqt_D",
        "outputId": "11df0dd9-24fd-461f-fa1c-de95ebf2c4ba"
      },
      "execution_count": 36,
      "outputs": [
        {
          "output_type": "execute_result",
          "data": {
            "text/plain": [
              "[1, 4, 9, 16, 25, 36, 49, 64, 81, 100]"
            ]
          },
          "metadata": {},
          "execution_count": 36
        }
      ]
    },
    {
      "cell_type": "code",
      "source": [
        "num_list=list(range(1,11))\n",
        "remainder=list(filter(lambda x:x%2==0,num_list))\n",
        "remainder"
      ],
      "metadata": {
        "colab": {
          "base_uri": "https://localhost:8080/"
        },
        "id": "2LhHeLHAs3Pw",
        "outputId": "978384c4-ee53-4854-cde6-049d7da48773"
      },
      "execution_count": 37,
      "outputs": [
        {
          "output_type": "execute_result",
          "data": {
            "text/plain": [
              "[2, 4, 6, 8, 10]"
            ]
          },
          "metadata": {},
          "execution_count": 37
        }
      ]
    },
    {
      "cell_type": "code",
      "source": [
        "from functools import reduce  #module functool\n",
        "num_list=[1,2,3,4,5]\n",
        "reduce(lambda x,y:x*y,num_list)\n"
      ],
      "metadata": {
        "colab": {
          "base_uri": "https://localhost:8080/"
        },
        "id": "uRHxkXFKuATO",
        "outputId": "349529a7-7853-4d77-badc-55c0c6647418"
      },
      "execution_count": 38,
      "outputs": [
        {
          "output_type": "execute_result",
          "data": {
            "text/plain": [
              "120"
            ]
          },
          "metadata": {},
          "execution_count": 38
        }
      ]
    },
    {
      "cell_type": "code",
      "source": [],
      "metadata": {
        "id": "7w_FtO0uvTjB"
      },
      "execution_count": null,
      "outputs": []
    }
  ]
}